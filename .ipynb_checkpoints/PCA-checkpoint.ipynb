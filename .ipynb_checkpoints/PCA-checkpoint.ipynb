{
 "cells": [
  {
   "cell_type": "code",
   "execution_count": null,
   "metadata": {},
   "outputs": [],
   "source": [
    "%matplotlib notebook\n",
    "import numpy as np\n",
    "import sys\n",
    "import matplotlib.pyplot as plt\n",
    "from mpl_toolkits.mplot3d import Axes3D # enables 3D plotting\n",
    "\n",
    "from sklearn.datasets import make_low_rank_matrix\n",
    "from sklearn.decomposition import PCA"
   ]
  },
  {
   "cell_type": "code",
   "execution_count": null,
   "metadata": {},
   "outputs": [],
   "source": [
    "sys.path.insert(0, './fashion-mnist/utils')\n",
    "import mnist_reader\n",
    "\n",
    "X_train, y_train = mnist_reader.load_mnist('fashion-mnist/data/fashion', kind='train')\n",
    "X_test, y_test = mnist_reader.load_mnist('fashion-mnist/data/fashion', kind='t10k')\n",
    "print (X_train.shape)\n",
    "X_train = X_train[0:1000,]\n",
    "y_train = y_train[0:1000,]\n",
    "print (X_train.shape)\n"
   ]
  },
  {
   "cell_type": "code",
   "execution_count": null,
   "metadata": {},
   "outputs": [],
   "source": [
    "columns = 12\n",
    "rows = 12\n",
    "image_ids = np.random.choice(X_train.shape[0], size = rows*columns, replace=False)\n",
    "fig = plt.figure()\n",
    "for i,image_id in enumerate(image_ids):\n",
    "    ax = fig.add_subplot(rows, columns, i + 1)\n",
    "    ax.imshow(X_train[image_id].reshape(28,-1), cmap='gray')\n",
    "    ax.axis('off')\n",
    "plt.show()"
   ]
  },
  {
   "cell_type": "code",
   "execution_count": null,
   "metadata": {},
   "outputs": [],
   "source": [
    "digits_pca = PCA(n_components=3).fit(X_train)\n",
    "X_pca = digits_pca.transform(X_train)\n",
    "\n",
    "fig = plt.figure()\n",
    "ax = fig.add_subplot(111, projection='3d')\n",
    "for digit in range(10):\n",
    "    ax.scatter(X_pca[y_train==digit,0], X_pca[y_train==digit,1], X_pca[y_train==digit,2], label=digit)\n",
    "ax.set_xlabel('$p_1$')\n",
    "ax.set_ylabel('$p_2$')\n",
    "ax.set_zlabel('$p_3$')\n",
    "plt.legend()\n",
    "plt.show()"
   ]
  }
 ],
 "metadata": {
  "kernelspec": {
   "display_name": "Python 3",
   "language": "python",
   "name": "python3"
  },
  "language_info": {
   "codemirror_mode": {
    "name": "ipython",
    "version": 3
   },
   "file_extension": ".py",
   "mimetype": "text/x-python",
   "name": "python",
   "nbconvert_exporter": "python",
   "pygments_lexer": "ipython3",
   "version": "3.6.5"
  }
 },
 "nbformat": 4,
 "nbformat_minor": 2
}
